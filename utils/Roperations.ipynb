{
 "cells": [
  {
   "cell_type": "code",
   "execution_count": null,
   "metadata": {
    "collapsed": false
   },
   "outputs": [],
   "source": [
    "# this file is been created to implement the R operations in python and see the possibilities for \n",
    "# integration and to get the best of both worlds\n",
    "import rpy2.robjects as ro\n",
    "from rpy2.robjects.packages import importr\n",
    "base = importr('base')\n",
    "stats = importr('stats')\n",
    "entropy = importr('entropy')"
   ]
  },
  {
   "cell_type": "code",
   "execution_count": 45,
   "metadata": {
    "collapsed": false
   },
   "outputs": [
    {
     "name": "stdout",
     "output_type": "stream",
     "text": [
      "[1] 1.968382\n",
      "\n"
     ]
    }
   ],
   "source": [
    "# entropy is a useful way to find the dependencies between \n",
    "# different variables in that way we will be able to find out important features\n",
    "# sample to find entropy  \n",
    "ro.r('y = c(4, 2, 3, 0, 2, 4, 0, 0, 2, 1, 1)')\n",
    "ent = ro.r('entropy(y, method=\"ML\")')\n",
    "print ent"
   ]
  },
  {
   "cell_type": "code",
   "execution_count": 46,
   "metadata": {
    "collapsed": false
   },
   "outputs": [],
   "source": [
    "ro.r('setwd(\"D:/codes/datasets/kaggle/Titanic\")')\n",
    " \n",
    "ro.r('train <- read.csv(\"train.csv\")')\n",
    "survived = ro.r('x = train$Survived')\n",
    "pclass = ro.r('z = train$Pclass')\n",
    "sex = ro.r('s = as.integer(train$Sex)')"
   ]
  },
  {
   "cell_type": "code",
   "execution_count": 47,
   "metadata": {
    "collapsed": false,
    "scrolled": true
   },
   "outputs": [
    {
     "name": "stdout",
     "output_type": "stream",
     "text": [
      "         \n",
      "\r\n",
      "          [1,1.67] (1.67,2.33] (2.33,3]\n",
      "\r\n",
      "  [0,0.5]       80          97      372\n",
      "\r\n",
      "  (0.5,1]      136          87      119\n",
      "\n",
      "[1] 1.605466\n",
      "\n"
     ]
    }
   ],
   "source": [
    "# calculating entropy between Survived and Pclass\n",
    "binclassification = ro.r('y2 = entropy::discretize2d(x,z,2,3,r1=range(x),r2=range(z))')\n",
    "survived_pclass_ent = ro.r('entropy(y2)')\n",
    "print binclassification\n",
    "print survived_pclass_ent"
   ]
  },
  {
   "cell_type": "code",
   "execution_count": 48,
   "metadata": {
    "collapsed": false
   },
   "outputs": [
    {
     "name": "stdout",
     "output_type": "stream",
     "text": [
      "         \n",
      "\r\n",
      "          [1,1.5] (1.5,2]\n",
      "\r\n",
      "  [0,0.5]      81     468\n",
      "\r\n",
      "  (0.5,1]     233     109\n",
      "\n",
      "[1] 1.163969\n",
      "\n"
     ]
    }
   ],
   "source": [
    "# calculating entropy between Survived and Sex\n",
    "\n",
    "binclassification = ro.r('x_sex_dest = entropy::discretize2d(x,s,2,2,r1=range(x),r2=range(s))')\n",
    "survived_sex_ent = ro.r('entropy(x_sex_dest)')\n",
    "print binclassification\n",
    "print survived_sex_ent"
   ]
  },
  {
   "cell_type": "code",
   "execution_count": 49,
   "metadata": {
    "collapsed": false
   },
   "outputs": [
    {
     "name": "stdout",
     "output_type": "stream",
     "text": [
      "         \n",
      "\r\n",
      "          [0.42,10.4] (10.4,20.3] (20.3,30.3] (30.3,40.2] (40.2,50.2]\n",
      "\r\n",
      "  [0,0.5]          26          71         146          86          53\n",
      "\r\n",
      "  (0.5,1]          38          44          84          69          33\n",
      "\r\n",
      "         \n",
      "\r\n",
      "          (50.2,60.1] (60.1,70.1] (70.1,80]\n",
      "\r\n",
      "  [0,0.5]          25          13         4\n",
      "\r\n",
      "  (0.5,1]          17           4         1\n",
      "\n",
      "[1] 2.416825\n",
      "\n"
     ]
    }
   ],
   "source": [
    "# calculating entropy between Survived and Age\n",
    "ro.r('train.omit <- (na.omit(train))')\n",
    "\n",
    "binclassification = ro.r('x_age_dest = entropy::discretize2d(train.omit$Survived,train.omit$Age,2,8,r1=range(train.omit$Survived),r2=range(train.omit$Age))')\n",
    "survived_age_ent = ro.r('entropy(x_age_dest)')\n",
    "print binclassification\n",
    "print survived_age_ent"
   ]
  },
  {
   "cell_type": "code",
   "execution_count": 50,
   "metadata": {
    "collapsed": false
   },
   "outputs": [
    {
     "name": "stdout",
     "output_type": "stream",
     "text": [
      "         \n",
      "\r\n",
      "          [1,1.67] (1.67,2.33] (2.33,3]\n",
      "\r\n",
      "  [0,0.5]       51          20      353\n",
      "\r\n",
      "  (0.5,1]       79           8      201\n",
      "\n",
      "[1] 1.288461\n",
      "\n"
     ]
    }
   ],
   "source": [
    "# manage the NA values is necessary \n",
    "ro.r('train$Embarked[train$Embarked==\"\"]<-NA')\n",
    "\n",
    "# omit the records containing NA values')\n",
    "ro.r('train.omit <- (na.omit(train))')\n",
    "ro.r('str(train.omit)')\n",
    "\n",
    "ro.r('emb <- train.omit$Embarked')\n",
    "ro.r('ftrs <- as.factor(sample(emb, length(emb), replace=TRUE))')\n",
    "ro.r('ftrs')\n",
    "ro.r('temp.map <- c(\"C\"=1,\"Q\"=2,\"S\"=3)')\n",
    "ro.r('emb_converted <- temp.map[as.character(emb)]')\n",
    "ro.r('emb_converted <- as.integer(emb_converted)')\n",
    "print ro.r('Survived_embarked_ent = entropy::discretize2d(train.omit$Survived,emb_converted,2,3,r1=range(train.omit$Survived),r2=range(emb_converted))')\n",
    "\n",
    "print ro.r('entropy(Survived_embarked_ent)')"
   ]
  },
  {
   "cell_type": "code",
   "execution_count": 52,
   "metadata": {
    "collapsed": false,
    "scrolled": true
   },
   "outputs": [
    {
     "name": "stdout",
     "output_type": "stream",
     "text": [
      "  [1] 1 1 0 1 0 0 4 2 1 2 0 0 6 0 0 5 1 0 0 0 0 4 6 5 0 0 1 1 0 2 1 1 1 3 0 1 5\n",
      "\r\n",
      " [38] 0 1 1 1 0 0 3 7 0 1 5 0 0 6 2 0 7 0 1 0 0 2 0 0 0 0 0 3 4 5 0 0 0 1 3 0 0\n",
      "\r\n",
      " [75] 1 1 1 0 1 0 2 0 0 0 0 1 0 1 0 0 0 1 1 6 2 1 0 1 1 0 0 0 0 1 1 0 0 2 1 0 0\n",
      "\r\n",
      "[112] 0 1 0 0 2 0 4 2 0 0 1 0 2 1 0 0 1 0 0 0 5 2 5 0 0 5 2 0 0 2 0 0 0 6 3 2 0\n",
      "\r\n",
      "[149] 2 0 0 0 1 2 0 0 1 0 0 0 0 0 1 1 0 0 0 0 0 0 0 1 0 1 0 0 0 0 0 1 0 0 0 0 1\n",
      "\r\n",
      "[186] 0 0 6 0 1 2 0 0 0 0 0 2 0 2 2 1 2 0 1 2 2 0 0 1 6 2 0 0 5 1 1 0 0 1 1 1 0\n",
      "\r\n",
      "[223] 5 2 0 0 0 0 0 0 0 0 0 0 1 0 0 0 0 3 1 0 3 1 1 0 0 4 2 0 2 0 1 0 2 2 0 0 0\n",
      "\r\n",
      "[260] 2 0 0 0 2 1 0 1 2 1 0 0 0 2 5 0 0 0 0 0 2 0 0 2 1 0 1 0 5 1 1 0 0 1 0 1 1\n",
      "\r\n",
      "[297] 0 0 4 0 2 0 0 0 2 0 1 0 7 0 0 3 0 2 1 2 0 0 0 0 0 0 0 1 1 0 1 0 2 0 1 0 2\n",
      "\r\n",
      "[334] 2 0 2 0 0 2 2 1 0 0 0 1 0 1 3 4 5 5 0 2 0 1 0 2 1 0 3 0 3 0 1 0 0 0 0 0 0\n",
      "\r\n",
      "[371] 0 0 0 3 0 3 0 0 1 1 0 1 7 0 0 1 1 0 0 2 0 0 0 0 1 3 0 0 0 0 0 1 2 0 0 0 0\n",
      "\r\n",
      "[408] 1 0 0 0 1 0 0 0 1 0 0 0 3 2 2 0 2 0 0 2 2 6 6 1 1 0 1 2 2 2 0 0 0 0 1 2 1\n",
      "\r\n",
      "[445] 0 0 2 0 4 0 0 2 0 0 0 0 1 0 2 2 0 0 2 0 2 0 0 1 0 1 2 0 1 3 0 0 1 0 0 3 0\n",
      "\r\n",
      "[482] 6 0 3 2 1 3 0 1 1 2 0 0 0 0 0 0 0 0 0 5 0 0 2 5 0 0 5 3 1 0 0 0 1 0 0 2 2\n",
      "\r\n",
      "[519] 0 2 2 0 0 0 1 2 0 0 2 1 0 0 0 0 0 7 1 0 0 7 2 3 5 0 0 1 1 1 0 0 0 0 2 0 1\n",
      "\r\n",
      "[556] 0 1 0 1 0 0 0 0 0 1 0 0 0 0 0 0 1 1 0 0 1 0 3 1 1 0 0 0 0 0 4 0 1 4 1 0 2\n",
      "\r\n",
      "[593] 2 0 1 0 2 1 0 0 3 2 0 0 0 0 0 0 3 0 1 0 0 0 0 0 4 0 0 1 0 1 0 0 0 0 5 3 0\n",
      "\r\n",
      "[630] 0 0 0 0 0 0 2 0 2 3 1 0 0 0 0 0 1 0 0 0 6 0 0 2 0 5 2 0 0 1 5 2 1 2 0 0 2\n",
      "\r\n",
      "[667] 0 0 0 0 0 0 0 0 0 1 6 0 2 1 1 1 2 0 3 2 1 0 0 0 1 0 2 0 2 0 0 1 0 0 0 1 1\n",
      "\r\n",
      "[704] 0 0 0 0 5 0 0 0 0\n",
      "\n",
      "         \n",
      "\r\n",
      "          [0,0.875] (0.875,1.75] (1.75,2.62] (2.62,3.5] (3.5,4.38] (4.38,5.25]\n",
      "\r\n",
      "  [0,0.5]       274           63          40          6          8          19\n",
      "\r\n",
      "  (0.5,1]       128           76          53         21          3           3\n",
      "\r\n",
      "         \n",
      "\r\n",
      "          (5.25,6.12] (6.12,7]\n",
      "\r\n",
      "  [0,0.5]           8        6\n",
      "\r\n",
      "  (0.5,1]           4        0\n",
      "\n",
      "[1] 1.941703\n",
      "\n"
     ]
    }
   ],
   "source": [
    "# finally I have calculated the dependencies of various features with \n",
    "\n",
    "ro.r('family = train.omit$Parch+train.omit$SibSp')\n",
    "ro.r('train.omit[\"family\"] <- family')\n",
    "print train\n",
    "# unique(family)\n",
    "print ro.r('Survived_family_ent=entropy::discretize2d(train.omit$Survived,train.omit$family,2,8,r1=range(train.omit$Survived),r2=range(train.omit$family))')\n",
    "print ro.r('entropy(Survived_family_ent)')"
   ]
  },
  {
   "cell_type": "code",
   "execution_count": null,
   "metadata": {
    "collapsed": true
   },
   "outputs": [],
   "source": [
    "# a more robust form of entropy, mean, standard deviation and other statistical measures needs to be calculated to"
   ]
  },
  {
   "cell_type": "code",
   "execution_count": null,
   "metadata": {
    "collapsed": true
   },
   "outputs": [],
   "source": [
    ""
   ]
  },
  {
   "cell_type": "code",
   "execution_count": null,
   "metadata": {
    "collapsed": true
   },
   "outputs": [],
   "source": [
    ""
   ]
  },
  {
   "cell_type": "code",
   "execution_count": null,
   "metadata": {
    "collapsed": true
   },
   "outputs": [],
   "source": [
    ""
   ]
  },
  {
   "cell_type": "code",
   "execution_count": null,
   "metadata": {
    "collapsed": true
   },
   "outputs": [],
   "source": [
    ""
   ]
  },
  {
   "cell_type": "code",
   "execution_count": null,
   "metadata": {
    "collapsed": true
   },
   "outputs": [],
   "source": [
    ""
   ]
  },
  {
   "cell_type": "code",
   "execution_count": null,
   "metadata": {
    "collapsed": true
   },
   "outputs": [],
   "source": [
    ""
   ]
  },
  {
   "cell_type": "code",
   "execution_count": null,
   "metadata": {
    "collapsed": true
   },
   "outputs": [],
   "source": [
    ""
   ]
  },
  {
   "cell_type": "code",
   "execution_count": null,
   "metadata": {
    "collapsed": true
   },
   "outputs": [],
   "source": [
    "# value of pi\n",
    "pi = ro.r['pi']+2\n",
    "print pi\n",
    "print pi[0]+2"
   ]
  },
  {
   "cell_type": "code",
   "execution_count": 8,
   "metadata": {
    "collapsed": false
   },
   "outputs": [
    {
     "data": {
      "text/plain": [
       "<FloatVector - Python:0x03843BC0 / R:0x067B29B0>\n",
       "[18.849556]"
      ]
     },
     "execution_count": 8,
     "metadata": {},
     "output_type": "execute_result"
    }
   ],
   "source": [
    "ro.r('''\n",
    "        f <- function(r, verbose=FALSE) {\n",
    "            if (verbose) {\n",
    "                cat(\"I am calling f().\\n\")\n",
    "            }\n",
    "            2 * pi * r\n",
    "        }\n",
    "        f(3)\n",
    "        ''')"
   ]
  },
  {
   "cell_type": "code",
   "execution_count": 13,
   "metadata": {
    "collapsed": false
   },
   "outputs": [
    {
     "name": "stdout",
     "output_type": "stream",
     "text": [
      "function (r, verbose = FALSE) \n",
      "{\n",
      "    if (verbose) {\n",
      "        cat(\"I am calling f().\\n\")\n",
      "    }\n",
      "    2 * pi * r\n",
      "}\n"
     ]
    }
   ],
   "source": [
    "r_f = ro.globalenv['f']\n",
    "print(r_f.r_repr())"
   ]
  },
  {
   "cell_type": "code",
   "execution_count": 14,
   "metadata": {
    "collapsed": true
   },
   "outputs": [],
   "source": [
    "res = r_f(3)"
   ]
  },
  {
   "cell_type": "code",
   "execution_count": null,
   "metadata": {
    "collapsed": false
   },
   "outputs": [],
   "source": [
    ""
   ]
  },
  {
   "cell_type": "code",
   "execution_count": null,
   "metadata": {
    "collapsed": true
   },
   "outputs": [],
   "source": [
    ""
   ]
  },
  {
   "cell_type": "code",
   "execution_count": 15,
   "metadata": {
    "collapsed": false
   },
   "outputs": [
    {
     "ename": "RRuntimeError",
     "evalue": "Error in file(filename, \"r\", encoding = encoding) : \n  cannot open the connection\n",
     "traceback": [
      "\u001b[0;31m\u001b[0m",
      "\u001b[0;31mRRuntimeError\u001b[0mTraceback (most recent call last)",
      "\u001b[0;32m<ipython-input-15-d55266f66b40>\u001b[0m in \u001b[0;36m<module>\u001b[0;34m()\u001b[0m\n\u001b[0;32m----> 1\u001b[0;31m \u001b[0mro\u001b[0m\u001b[1;33m.\u001b[0m\u001b[0mr\u001b[0m\u001b[1;33m.\u001b[0m\u001b[0msource\u001b[0m\u001b[1;33m(\u001b[0m\u001b[1;34m\"entropy_mi.R\"\u001b[0m\u001b[1;33m)\u001b[0m\u001b[1;33m\u001b[0m\u001b[0m\n\u001b[0m",
      "\u001b[0;32mC:\\Python27\\lib\\site-packages\\rpy2\\robjects\\functions.pyc\u001b[0m in \u001b[0;36m__call__\u001b[0;34m(self, *args, **kwargs)\u001b[0m\n\u001b[1;32m    176\u001b[0m                 \u001b[0mv\u001b[0m \u001b[1;33m=\u001b[0m \u001b[0mkwargs\u001b[0m\u001b[1;33m.\u001b[0m\u001b[0mpop\u001b[0m\u001b[1;33m(\u001b[0m\u001b[0mk\u001b[0m\u001b[1;33m)\u001b[0m\u001b[1;33m\u001b[0m\u001b[0m\n\u001b[1;32m    177\u001b[0m                 \u001b[0mkwargs\u001b[0m\u001b[1;33m[\u001b[0m\u001b[0mr_k\u001b[0m\u001b[1;33m]\u001b[0m \u001b[1;33m=\u001b[0m \u001b[0mv\u001b[0m\u001b[1;33m\u001b[0m\u001b[0m\n\u001b[0;32m--> 178\u001b[0;31m         \u001b[1;32mreturn\u001b[0m \u001b[0msuper\u001b[0m\u001b[1;33m(\u001b[0m\u001b[0mSignatureTranslatedFunction\u001b[0m\u001b[1;33m,\u001b[0m \u001b[0mself\u001b[0m\u001b[1;33m)\u001b[0m\u001b[1;33m.\u001b[0m\u001b[0m__call__\u001b[0m\u001b[1;33m(\u001b[0m\u001b[1;33m*\u001b[0m\u001b[0margs\u001b[0m\u001b[1;33m,\u001b[0m \u001b[1;33m**\u001b[0m\u001b[0mkwargs\u001b[0m\u001b[1;33m)\u001b[0m\u001b[1;33m\u001b[0m\u001b[0m\n\u001b[0m\u001b[1;32m    179\u001b[0m \u001b[1;33m\u001b[0m\u001b[0m\n\u001b[1;32m    180\u001b[0m \u001b[0mpattern_link\u001b[0m \u001b[1;33m=\u001b[0m \u001b[0mre\u001b[0m\u001b[1;33m.\u001b[0m\u001b[0mcompile\u001b[0m\u001b[1;33m(\u001b[0m\u001b[1;34mr'\\\\link\\{(.+?)\\}'\u001b[0m\u001b[1;33m)\u001b[0m\u001b[1;33m\u001b[0m\u001b[0m\n",
      "\u001b[0;32mC:\\Python27\\lib\\site-packages\\rpy2\\robjects\\functions.pyc\u001b[0m in \u001b[0;36m__call__\u001b[0;34m(self, *args, **kwargs)\u001b[0m\n\u001b[1;32m    104\u001b[0m         \u001b[1;32mfor\u001b[0m \u001b[0mk\u001b[0m\u001b[1;33m,\u001b[0m \u001b[0mv\u001b[0m \u001b[1;32min\u001b[0m \u001b[0mkwargs\u001b[0m\u001b[1;33m.\u001b[0m\u001b[0mitems\u001b[0m\u001b[1;33m(\u001b[0m\u001b[1;33m)\u001b[0m\u001b[1;33m:\u001b[0m\u001b[1;33m\u001b[0m\u001b[0m\n\u001b[1;32m    105\u001b[0m             \u001b[0mnew_kwargs\u001b[0m\u001b[1;33m[\u001b[0m\u001b[0mk\u001b[0m\u001b[1;33m]\u001b[0m \u001b[1;33m=\u001b[0m \u001b[0mconversion\u001b[0m\u001b[1;33m.\u001b[0m\u001b[0mpy2ri\u001b[0m\u001b[1;33m(\u001b[0m\u001b[0mv\u001b[0m\u001b[1;33m)\u001b[0m\u001b[1;33m\u001b[0m\u001b[0m\n\u001b[0;32m--> 106\u001b[0;31m         \u001b[0mres\u001b[0m \u001b[1;33m=\u001b[0m \u001b[0msuper\u001b[0m\u001b[1;33m(\u001b[0m\u001b[0mFunction\u001b[0m\u001b[1;33m,\u001b[0m \u001b[0mself\u001b[0m\u001b[1;33m)\u001b[0m\u001b[1;33m.\u001b[0m\u001b[0m__call__\u001b[0m\u001b[1;33m(\u001b[0m\u001b[1;33m*\u001b[0m\u001b[0mnew_args\u001b[0m\u001b[1;33m,\u001b[0m \u001b[1;33m**\u001b[0m\u001b[0mnew_kwargs\u001b[0m\u001b[1;33m)\u001b[0m\u001b[1;33m\u001b[0m\u001b[0m\n\u001b[0m\u001b[1;32m    107\u001b[0m         \u001b[0mres\u001b[0m \u001b[1;33m=\u001b[0m \u001b[0mconversion\u001b[0m\u001b[1;33m.\u001b[0m\u001b[0mri2ro\u001b[0m\u001b[1;33m(\u001b[0m\u001b[0mres\u001b[0m\u001b[1;33m)\u001b[0m\u001b[1;33m\u001b[0m\u001b[0m\n\u001b[1;32m    108\u001b[0m         \u001b[1;32mreturn\u001b[0m \u001b[0mres\u001b[0m\u001b[1;33m\u001b[0m\u001b[0m\n",
      "\u001b[0;31mRRuntimeError\u001b[0m: Error in file(filename, \"r\", encoding = encoding) : \n  cannot open the connection\n"
     ],
     "output_type": "error"
    }
   ],
   "source": [
    "ro.r.source(\"entropy_mi.R\")"
   ]
  },
  {
   "cell_type": "code",
   "execution_count": null,
   "metadata": {
    "collapsed": false
   },
   "outputs": [],
   "source": [
    "ro.r.source(\"entropy_mi.R\")"
   ]
  },
  {
   "cell_type": "code",
   "execution_count": 8,
   "metadata": {
    "collapsed": false
   },
   "outputs": [
    {
     "data": {
      "text/plain": [
       "rpy2.rinterface.NULL"
      ]
     },
     "execution_count": 8,
     "metadata": {},
     "output_type": "execute_result"
    }
   ],
   "source": [
    "r = ro.r\n",
    "\n",
    "m = r.matrix(r.rnorm(100), ncol=5)\n",
    "pca = r.princomp(m)\n",
    "r.plot(pca, main=\"Eigen values\")\n",
    "r.biplot(pca, main=\"biplot\")"
   ]
  },
  {
   "cell_type": "code",
   "execution_count": 9,
   "metadata": {
    "collapsed": false
   },
   "outputs": [
    {
     "data": {
      "text/plain": [
       "rpy2.rinterface.NULL"
      ]
     },
     "execution_count": 9,
     "metadata": {},
     "output_type": "execute_result"
    }
   ],
   "source": [
    "from rpy2.robjects.packages import importr\n",
    "\n",
    "base     = importr('base')\n",
    "stats    = importr('stats')\n",
    "graphics = importr('graphics')\n",
    "\n",
    "m = base.matrix(stats.rnorm(100), ncol = 5)\n",
    "pca = stats.princomp(m)\n",
    "graphics.plot(pca, main = \"Eigen values\")\n",
    "stats.biplot(pca, main = \"biplot\")"
   ]
  },
  {
   "cell_type": "code",
   "execution_count": 10,
   "metadata": {
    "collapsed": false
   },
   "outputs": [
    {
     "data": {
      "text/plain": [
       "rpy2.rinterface.NULL"
      ]
     },
     "execution_count": 10,
     "metadata": {},
     "output_type": "execute_result"
    }
   ],
   "source": [
    "import rpy2.robjects as robjects\n",
    "\n",
    "r = robjects.r\n",
    "\n",
    "m = r.matrix(r.rnorm(100), ncol=5)\n",
    "pca = r.princomp(m)\n",
    "r.plot(pca, main=\"Eigen values\")\n",
    "r.biplot(pca, main=\"biplot\")"
   ]
  },
  {
   "cell_type": "code",
   "execution_count": 1,
   "metadata": {
    "collapsed": false
   },
   "outputs": [
    {
     "data": {
      "text/plain": [
       "rpy2.rinterface.NULL"
      ]
     },
     "execution_count": 1,
     "metadata": {},
     "output_type": "execute_result"
    }
   ],
   "source": [
    "from rpy2.robjects.packages import importr\n",
    "\n",
    "base     = importr('base')\n",
    "stats    = importr('stats')\n",
    "graphics = importr('graphics')\n",
    "\n",
    "m = base.matrix(stats.rnorm(100), ncol = 5)\n",
    "pca = stats.princomp(m)\n",
    "graphics.plot(pca, main = \"Eigen values\")\n",
    "stats.biplot(pca, main = \"biplot\")"
   ]
  },
  {
   "cell_type": "code",
   "execution_count": 2,
   "metadata": {
    "collapsed": false
   },
   "outputs": [
    {
     "data": {
      "text/plain": [
       "rpy2.rinterface.NULL"
      ]
     },
     "execution_count": 2,
     "metadata": {},
     "output_type": "execute_result"
    }
   ],
   "source": [
    "\"\"\"\n",
    "short demo.\n",
    "\n",
    "\"\"\"\n",
    "\n",
    "from rpy2.robjects.packages import importr\n",
    "graphics = importr('graphics')\n",
    "grdevices = importr('grDevices')\n",
    "base = importr('base')\n",
    "stats = importr('stats')\n",
    "\n",
    "import array\n",
    "\n",
    "x = array.array('i', range(10))\n",
    "y = stats.rnorm(10)\n",
    "\n",
    "grdevices.X11()\n",
    "\n",
    "graphics.par(mfrow = array.array('i', [2,2]))\n",
    "graphics.plot(x, y, ylab = \"foo/bar\", col = \"red\")\n",
    "\n",
    "kwargs = {'ylab':\"foo/bar\", 'type':\"b\", 'col':\"blue\", 'log':\"x\"}\n",
    "graphics.plot(x, y, **kwargs)\n",
    "\n",
    "\n",
    "m = base.matrix(stats.rnorm(100), ncol=5)\n",
    "pca = stats.princomp(m)\n",
    "graphics.plot(pca, main=\"Eigen values\")\n",
    "stats.biplot(pca, main=\"biplot\")"
   ]
  },
  {
   "cell_type": "code",
   "execution_count": null,
   "metadata": {
    "collapsed": true
   },
   "outputs": [],
   "source": [
    ""
   ]
  }
 ],
 "metadata": {
  "kernelspec": {
   "display_name": "Python 2",
   "language": "python",
   "name": "python2"
  },
  "language_info": {
   "codemirror_mode": {
    "name": "ipython",
    "version": 2.0
   },
   "file_extension": ".py",
   "mimetype": "text/x-python",
   "name": "python",
   "nbconvert_exporter": "python",
   "pygments_lexer": "ipython2",
   "version": "2.7.12"
  }
 },
 "nbformat": 4,
 "nbformat_minor": 0
}