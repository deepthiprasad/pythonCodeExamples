{
 "cells": [
  {
   "cell_type": "code",
   "execution_count": 1,
   "metadata": {
    "collapsed": true
   },
   "outputs": [],
   "source": [
    "import pandas as pd\n",
    "def rstr(df): return df.shape, df.apply(lambda x: [x.unique()])\n",
    "df = pd.read_csv(\"D:\\codes\\datasets\\kaggle\\Titanic\\\\train.csv\")"
   ]
  },
  {
   "cell_type": "code",
   "execution_count": 2,
   "metadata": {
    "collapsed": false
   },
   "outputs": [
    {
     "name": "stdout",
     "output_type": "stream",
     "text": [
      "((891, 12), PassengerId    [[1, 2, 3, 4, 5, 6, 7, 8, 9, 10, 11, 12, 13, 1...\n",
      "Survived                                                [[0, 1]]\n",
      "Pclass                                               [[3, 1, 2]]\n",
      "Name           [[Braund, Mr. Owen Harris, Cumings, Mrs. John ...\n",
      "Sex                                             [[male, female]]\n",
      "Age            [[22.0, 38.0, 26.0, 35.0, nan, 54.0, 2.0, 27.0...\n",
      "SibSp                                    [[1, 0, 3, 4, 2, 5, 8]]\n",
      "Parch                                    [[0, 1, 2, 5, 3, 4, 6]]\n",
      "Ticket         [[A/5 21171, PC 17599, STON/O2. 3101282, 11380...\n",
      "Fare           [[7.25, 71.2833, 7.925, 53.1, 8.05, 8.4583, 51...\n",
      "Cabin          [[nan, C85, C123, E46, G6, C103, D56, A6, C23 ...\n",
      "Embarked                                        [[S, C, Q, nan]]\n",
      "dtype: object)\n"
     ]
    }
   ],
   "source": [
    "print(rstr(df))"
   ]
  },
  {
   "cell_type": "code",
   "execution_count": 3,
   "metadata": {
    "collapsed": false
   },
   "outputs": [
    {
     "name": "stdout",
     "output_type": "stream",
     "text": [
      "[80, 97, 372, 136, 87, 119]\n"
     ]
    }
   ],
   "source": [
    "lst_Pclass_survived = [0]*6\n",
    "survived = df['Survived']\n",
    "pclass = df['Pclass']\n",
    "\n",
    "for i in range(len(survived)):\n",
    "    lst_Pclass_survived[survived[i]*3+pclass[i]-1] += 1\n",
    "\n",
    "print lst_Pclass_survived"
   ]
  },
  {
   "cell_type": "code",
   "execution_count": null,
   "metadata": {
    "collapsed": true
   },
   "outputs": [],
   "source": [
    ""
   ]
  },
  {
   "cell_type": "code",
   "execution_count": null,
   "metadata": {
    "collapsed": true
   },
   "outputs": [],
   "source": [
    ""
   ]
  },
  {
   "cell_type": "code",
   "execution_count": null,
   "metadata": {
    "collapsed": true
   },
   "outputs": [],
   "source": [
    "lst_sex_survived = [0]*4\n",
    "survived = df['Survived']survived = df['Survived']\n",
    "\n",
    "sex = df['Sex']\n",
    "\n",
    "for i in range(len(survived)):\n",
    "    lst_sex_survived[survived[i]*2+sex[i]-1] += 1\n",
    "\n",
    "print lst_sex_survived"
   ]
  }
 ],
 "metadata": {
  "kernelspec": {
   "display_name": "Python 2",
   "language": "python",
   "name": "python2"
  },
  "language_info": {
   "codemirror_mode": {
    "name": "ipython",
    "version": 2.0
   },
   "file_extension": ".py",
   "mimetype": "text/x-python",
   "name": "python",
   "nbconvert_exporter": "python",
   "pygments_lexer": "ipython2",
   "version": "2.7.12"
  }
 },
 "nbformat": 4,
 "nbformat_minor": 0
}