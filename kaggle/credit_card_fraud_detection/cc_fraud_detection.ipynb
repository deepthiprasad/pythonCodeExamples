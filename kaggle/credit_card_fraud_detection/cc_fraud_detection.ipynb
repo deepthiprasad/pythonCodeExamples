{
 "cells": [
  {
   "cell_type": "code",
   "execution_count": 44,
   "metadata": {
    "collapsed": false
   },
   "outputs": [],
   "source": [
    "import sys\n",
    "sys.path.append('D:\\codes\\python\\PyConcepts')\n",
    "from utils import MLUtilities as util\n",
    "import scipy as sp\n",
    "from sklearn.model_selection import train_test_split\n",
    "from sklearn.multiclass import OneVsRestClassifier\n",
    "from sklearn.svm import LinearSVC\n",
    "from sklearn.metrics import accuracy_score\n"
   ]
  },
  {
   "cell_type": "code",
   "execution_count": 45,
   "metadata": {
    "collapsed": false
   },
   "outputs": [
    {
     "name": "stdout",
     "output_type": "stream",
     "text": [
      "   Time        V1        V2        V3        V4        V5        V6        V7  \\\n",
      "0   0.0 -1.359807 -0.072781  2.536347  1.378155 -0.338321  0.462388  0.239599   \n",
      "1   0.0  1.191857  0.266151  0.166480  0.448154  0.060018 -0.082361 -0.078803   \n",
      "2   1.0 -1.358354 -1.340163  1.773209  0.379780 -0.503198  1.800499  0.791461   \n",
      "3   1.0 -0.966272 -0.185226  1.792993 -0.863291 -0.010309  1.247203  0.237609   \n",
      "4   2.0 -1.158233  0.877737  1.548718  0.403034 -0.407193  0.095921  0.592941   \n",
      "\n",
      "         V8        V9  ...         V21       V22       V23       V24  \\\n",
      "0  0.098698  0.363787  ...   -0.018307  0.277838 -0.110474  0.066928   \n",
      "1  0.085102 -0.255425  ...   -0.225775 -0.638672  0.101288 -0.339846   \n",
      "2  0.247676 -1.514654  ...    0.247998  0.771679  0.909412 -0.689281   \n",
      "3  0.377436 -1.387024  ...   -0.108300  0.005274 -0.190321 -1.175575   \n",
      "4 -0.270533  0.817739  ...   -0.009431  0.798278 -0.137458  0.141267   \n",
      "\n",
      "        V25       V26       V27       V28  Amount  Class  \n",
      "0  0.128539 -0.189115  0.133558 -0.021053  149.62      0  \n",
      "1  0.167170  0.125895 -0.008983  0.014724    2.69      0  \n",
      "2 -0.327642 -0.139097 -0.055353 -0.059752  378.66      0  \n",
      "3  0.647376 -0.221929  0.062723  0.061458  123.50      0  \n",
      "4 -0.206010  0.502292  0.219422  0.215153   69.99      0  \n",
      "\n",
      "[5 rows x 31 columns]\n"
     ]
    }
   ],
   "source": [
    "params = util.get_config_file()\n",
    "df = util.read_csv_file(params['mandatory']['train_csv_file_path'])\n",
    "\n",
    "# lets see the some sample data\n",
    "print df.head()"
   ]
  },
  {
   "cell_type": "code",
   "execution_count": 46,
   "metadata": {
    "collapsed": false
   },
   "outputs": [
    {
     "name": "stdout",
     "output_type": "stream",
     "text": [
      "Missing values per column:\n",
      "Time      0\n",
      "V1        0\n",
      "V2        0\n",
      "V3        0\n",
      "V4        0\n",
      "V5        0\n",
      "V6        0\n",
      "V7        0\n",
      "V8        0\n",
      "V9        0\n",
      "V10       0\n",
      "V11       0\n",
      "V12       0\n",
      "V13       0\n",
      "V14       0\n",
      "V15       0\n",
      "V16       0\n",
      "V17       0\n",
      "V18       0\n",
      "V19       0\n",
      "V20       0\n",
      "V21       0\n",
      "V22       0\n",
      "V23       0\n",
      "V24       0\n",
      "V25       0\n",
      "V26       0\n",
      "V27       0\n",
      "V28       0\n",
      "Amount    0\n",
      "Class     0\n",
      "dtype: int64\n"
     ]
    }
   ],
   "source": [
    "print \"Missing values per column:\"\n",
    "is_null = df.apply(util.num_missing, axis=0)\n",
    "print sp.transpose(is_null)"
   ]
  },
  {
   "cell_type": "code",
   "execution_count": 47,
   "metadata": {
    "collapsed": false
   },
   "outputs": [],
   "source": [
    "# preparing features and labels\n",
    "y = sp.array(df[[-1]])\n",
    "X = sp.array(df.drop(['Class'], 1))"
   ]
  },
  {
   "cell_type": "code",
   "execution_count": 58,
   "metadata": {
    "collapsed": false
   },
   "outputs": [],
   "source": [
    "# appearently there is no null value in the data frame, and all the values looks good\n",
    "# divide training and test set and check no. of positives and negatives example percentage in each case\n",
    "# crossvalidation and training data should contain balanced number of positive and negative examples\n",
    "\n",
    "    # divide training, cross validation data\n",
    "X_train, X_cross_val, y_train, y_cross_val = train_test_split(X, y, test_size=0.2, random_state=0)"
   ]
  },
  {
   "cell_type": "code",
   "execution_count": 59,
   "metadata": {
    "collapsed": false
   },
   "outputs": [
    {
     "name": "stdout",
     "output_type": "stream",
     "text": [
      "number of ones in y_train : \n",
      "391\n",
      "number of ones in y_cross_val : \n",
      "101\n"
     ]
    }
   ],
   "source": [
    "# need to find the number of 0's and 1's in\n",
    "temp = 0 \n",
    "for y1 in y_train:\n",
    "    if y1==1:\n",
    "        temp += 1 \n",
    "        \n",
    "print \"number of ones in y_train : \"\n",
    "print temp\n",
    "\n",
    "# need to find the number of 0's and 1's in\n",
    "temp = 0 \n",
    "for y1 in y_cross_val:\n",
    "    if y1==1:\n",
    "        temp += 1 \n",
    "        \n",
    "print \"number of ones in y_cross_val : \"\n",
    "print temp"
   ]
  },
  {
   "cell_type": "code",
   "execution_count": 60,
   "metadata": {
    "collapsed": true
   },
   "outputs": [],
   "source": [
    "clf = OneVsRestClassifier(LinearSVC(random_state=0)).fit(X_train, y_train)"
   ]
  },
  {
   "cell_type": "code",
   "execution_count": 61,
   "metadata": {
    "collapsed": false
   },
   "outputs": [
    {
     "name": "stdout",
     "output_type": "stream",
     "text": [
      "Accuracy :\n"
     ]
    },
    {
     "data": {
      "text/plain": [
       "0.99827955479091324"
      ]
     },
     "execution_count": 61,
     "metadata": {},
     "output_type": "execute_result"
    }
   ],
   "source": [
    "# predict the values on cross validation data\n",
    "y_predict = clf.predict(X_cross_val)\n",
    "\n",
    "# find error of prediction on cross validation data\n",
    "print \"Accuracy :\"\n",
    "accuracy_score(y_cross_val, y_predict)\n"
   ]
  },
  {
   "cell_type": "code",
   "execution_count": 62,
   "metadata": {
    "collapsed": false
   },
   "outputs": [
    {
     "name": "stdout",
     "output_type": "stream",
     "text": [
      "false positive : \n",
      "86\n",
      "false negative : \n",
      "12\n"
     ]
    }
   ],
   "source": [
    "# lets check the false positive and false negative predictions\n",
    "# absolute values will be much more helpful\n",
    "false_positive = 0\n",
    "false_negative = 0\n",
    "for i in range(1,len(y_cross_val)) :\n",
    "    if y_cross_val[i]-y_predict[i] == -1:\n",
    "        false_negative += 1\n",
    "    if y_cross_val[i]-y_predict[i] == 1:\n",
    "        false_positive += 1\n",
    "print \"false positive : \"\n",
    "print false_positive\n",
    "\n",
    "print \"false negative : \"\n",
    "print false_negative"
   ]
  },
  {
   "cell_type": "code",
   "execution_count": null,
   "metadata": {
    "collapsed": true
   },
   "outputs": [],
   "source": []
  }
 ],
 "metadata": {
  "kernelspec": {
   "display_name": "Python 2",
   "language": "python",
   "name": "python2"
  },
  "language_info": {
   "codemirror_mode": {
    "name": "ipython",
    "version": 2
   },
   "file_extension": ".py",
   "mimetype": "text/x-python",
   "name": "python",
   "nbconvert_exporter": "python",
   "pygments_lexer": "ipython2",
   "version": "2.7.12"
  }
 },
 "nbformat": 4,
 "nbformat_minor": 0
}
