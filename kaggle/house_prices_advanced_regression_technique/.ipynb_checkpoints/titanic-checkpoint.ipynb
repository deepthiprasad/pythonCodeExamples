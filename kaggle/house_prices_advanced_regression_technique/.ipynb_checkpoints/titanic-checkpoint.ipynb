{
 "cells": [
  {
   "cell_type": "code",
   "execution_count": 1,
   "metadata": {
    "collapsed": true
   },
   "outputs": [],
   "source": [
    "import pandas as pd\n",
    "def rstr(df): return df.shape, df.apply(lambda x: [x.unique()])\n",
    "df = pd.read_csv(\"D:\\codes\\datasets\\kaggle\\Titanic\\\\train.csv\")"
   ]
  },
  {
   "cell_type": "code",
   "execution_count": 2,
   "metadata": {
    "collapsed": false
   },
   "outputs": [
    {
     "name": "stdout",
     "output_type": "stream",
     "text": [
      "((891, 12), PassengerId    [[1, 2, 3, 4, 5, 6, 7, 8, 9, 10, 11, 12, 13, 1...\n",
      "Survived                                                [[0, 1]]\n",
      "Pclass                                               [[3, 1, 2]]\n",
      "Name           [[Braund, Mr. Owen Harris, Cumings, Mrs. John ...\n",
      "Sex                                             [[male, female]]\n",
      "Age            [[22.0, 38.0, 26.0, 35.0, nan, 54.0, 2.0, 27.0...\n",
      "SibSp                                    [[1, 0, 3, 4, 2, 5, 8]]\n",
      "Parch                                    [[0, 1, 2, 5, 3, 4, 6]]\n",
      "Ticket         [[A/5 21171, PC 17599, STON/O2. 3101282, 11380...\n",
      "Fare           [[7.25, 71.2833, 7.925, 53.1, 8.05, 8.4583, 51...\n",
      "Cabin          [[nan, C85, C123, E46, G6, C103, D56, A6, C23 ...\n",
      "Embarked                                        [[S, C, Q, nan]]\n",
      "dtype: object)\n"
     ]
    }
   ],
   "source": [
    "print(rstr(df))"
   ]
  },
  {
   "cell_type": "code",
   "execution_count": 3,
   "metadata": {
    "collapsed": false
   },
   "outputs": [
    {
     "name": "stdout",
     "output_type": "stream",
     "text": [
      "[80, 97, 372, 136, 87, 119]\n"
     ]
    }
   ],
   "source": [
    "lst_Pclass_survived = [0]*6\n",
    "survived = df['Survived']\n",
    "pclass = df['Pclass']\n",
    "\n",
    "for i in range(len(survived)):\n",
    "    lst_Pclass_survived[survived[i]*3+pclass[i]-1] += 1\n",
    "\n",
    "print lst_Pclass_survived"
   ]
  },
  {
   "cell_type": "code",
   "execution_count": 58,
   "metadata": {
    "collapsed": false
   },
   "outputs": [
    {
     "data": {
      "image/png": "[encoded data removed]",
      "text/plain": [
       "<matplotlib.figure.Figure at 0x883c5b0>"
      ]
     },
     "metadata": {},
     "output_type": "display_data"
    }
   ],
   "source": [
    "# below plot shows the relation between survived versus pclass \n",
    "# graph shows some correlation between pclass and survived people\n",
    "import numpy as np\n",
    "import matplotlib.pyplot as plt\n",
    "\n",
    "N = 3\n",
    "ind = np.arange(N)  # the x locations for the groups\n",
    "width = 0.27       # the width of the bars\n",
    "\n",
    "fig = plt.figure()\n",
    "ax = fig.add_subplot(111)\n",
    "\n",
    "yvals = lst_Pclass_survived[0:3]\n",
    "rects1 = ax.bar(ind, yvals, width, color='r')\n",
    "zvals = lst_Pclass_survived[3:6]\n",
    "rects2 = ax.bar(ind+width, zvals, width, color='g')\n",
    "\n",
    "\n",
    "ax.set_ylabel('No. of Peoples')\n",
    "ax.set_xticks(ind+width)\n",
    "ax.set_xticklabels( ('pclass=1', 'pclass=2', 'pclass=3') )\n",
    "ax.legend( (rects1[0], rects2[0]), ('survived=0', 'survived=') )\n",
    "\n",
    "def autolabel(rects):\n",
    "    for rect in rects:\n",
    "        h = rect.get_height()\n",
    "        ax.text(rect.get_x()+rect.get_width()/2., 1.05*h, '%d'%int(h),\n",
    "                ha='center', va='bottom')\n",
    "\n",
    "autolabel(rects1)\n",
    "autolabel(rects2)\n",
    "\n",
    "\n",
    "plt.show()"
   ]
  },
  {
   "cell_type": "code",
   "execution_count": null,
   "metadata": {
    "collapsed": true
   },
   "outputs": [],
   "source": [
    "lst_sex_survived = [0]*4\n",
    "survived = df['Survived']\n",
    "sex = df['Sex']\n",
    "\n",
    "for i in range(len(survived)):\n",
    "    lst_sex_survived[survived[i]*2+sex[i]-1] += 1\n",
    "\n",
    "print lst_sex_survived"
   ]
  }
 ],
 "metadata": {
  "kernelspec": {
   "display_name": "Python 2",
   "language": "python",
   "name": "python2"
  },
  "language_info": {
   "codemirror_mode": {
    "name": "ipython",
    "version": 2
   },
   "file_extension": ".py",
   "mimetype": "text/x-python",
   "name": "python",
   "nbconvert_exporter": "python",
   "pygments_lexer": "ipython2",
   "version": "2.7.12"
  }
 },
 "nbformat": 4,
 "nbformat_minor": 0
}
